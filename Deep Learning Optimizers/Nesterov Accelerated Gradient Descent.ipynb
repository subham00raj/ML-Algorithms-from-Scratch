{
  "cells": [
    {
      "cell_type": "code",
      "execution_count": 2,
      "metadata": {
        "id": "beliz-xdg8la"
      },
      "outputs": [],
      "source": [
        "import numpy as np\n",
        "import pandas as pd\n",
        "import matplotlib.pyplot as plt"
      ]
    },
    {
      "cell_type": "code",
      "execution_count": 3,
      "metadata": {
        "colab": {
          "base_uri": "https://localhost:8080/",
          "height": 204
        },
        "id": "5gXODV-5q-iL",
        "outputId": "93ecc1e4-6c76-4ca4-b19e-6cdcb972b071"
      },
      "outputs": [
        {
          "data": {
            "text/html": [
              "<div>\n",
              "<style scoped>\n",
              "    .dataframe tbody tr th:only-of-type {\n",
              "        vertical-align: middle;\n",
              "    }\n",
              "\n",
              "    .dataframe tbody tr th {\n",
              "        vertical-align: top;\n",
              "    }\n",
              "\n",
              "    .dataframe thead th {\n",
              "        text-align: right;\n",
              "    }\n",
              "</style>\n",
              "<table border=\"1\" class=\"dataframe\">\n",
              "  <thead>\n",
              "    <tr style=\"text-align: right;\">\n",
              "      <th></th>\n",
              "      <th>Avg. Area Income</th>\n",
              "      <th>Avg. Area House Age</th>\n",
              "      <th>Avg. Area Number of Rooms</th>\n",
              "      <th>Avg. Area Number of Bedrooms</th>\n",
              "      <th>Area Population</th>\n",
              "      <th>Price</th>\n",
              "    </tr>\n",
              "  </thead>\n",
              "  <tbody>\n",
              "    <tr>\n",
              "      <th>0</th>\n",
              "      <td>79545.458574</td>\n",
              "      <td>5.682861</td>\n",
              "      <td>7.009188</td>\n",
              "      <td>4.09</td>\n",
              "      <td>23086.800503</td>\n",
              "      <td>1.059034e+06</td>\n",
              "    </tr>\n",
              "    <tr>\n",
              "      <th>1</th>\n",
              "      <td>79248.642455</td>\n",
              "      <td>6.002900</td>\n",
              "      <td>6.730821</td>\n",
              "      <td>3.09</td>\n",
              "      <td>40173.072174</td>\n",
              "      <td>1.505891e+06</td>\n",
              "    </tr>\n",
              "    <tr>\n",
              "      <th>2</th>\n",
              "      <td>61287.067179</td>\n",
              "      <td>5.865890</td>\n",
              "      <td>8.512727</td>\n",
              "      <td>5.13</td>\n",
              "      <td>36882.159400</td>\n",
              "      <td>1.058988e+06</td>\n",
              "    </tr>\n",
              "    <tr>\n",
              "      <th>3</th>\n",
              "      <td>63345.240046</td>\n",
              "      <td>7.188236</td>\n",
              "      <td>5.586729</td>\n",
              "      <td>3.26</td>\n",
              "      <td>34310.242831</td>\n",
              "      <td>1.260617e+06</td>\n",
              "    </tr>\n",
              "    <tr>\n",
              "      <th>4</th>\n",
              "      <td>59982.197226</td>\n",
              "      <td>5.040555</td>\n",
              "      <td>7.839388</td>\n",
              "      <td>4.23</td>\n",
              "      <td>26354.109472</td>\n",
              "      <td>6.309435e+05</td>\n",
              "    </tr>\n",
              "  </tbody>\n",
              "</table>\n",
              "</div>"
            ],
            "text/plain": [
              "   Avg. Area Income  Avg. Area House Age  Avg. Area Number of Rooms  \\\n",
              "0      79545.458574             5.682861                   7.009188   \n",
              "1      79248.642455             6.002900                   6.730821   \n",
              "2      61287.067179             5.865890                   8.512727   \n",
              "3      63345.240046             7.188236                   5.586729   \n",
              "4      59982.197226             5.040555                   7.839388   \n",
              "\n",
              "   Avg. Area Number of Bedrooms  Area Population         Price  \n",
              "0                          4.09     23086.800503  1.059034e+06  \n",
              "1                          3.09     40173.072174  1.505891e+06  \n",
              "2                          5.13     36882.159400  1.058988e+06  \n",
              "3                          3.26     34310.242831  1.260617e+06  \n",
              "4                          4.23     26354.109472  6.309435e+05  "
            ]
          },
          "execution_count": 3,
          "metadata": {},
          "output_type": "execute_result"
        }
      ],
      "source": [
        "df_ = pd.read_csv('USA_Housing.csv')\n",
        "df_.drop('Address',inplace = True, axis=1)\n",
        "df_.head()"
      ]
    },
    {
      "cell_type": "code",
      "execution_count": 5,
      "metadata": {
        "colab": {
          "base_uri": "https://localhost:8080/",
          "height": 204
        },
        "id": "3OEeskwKkkDx",
        "outputId": "90f7a534-ccde-43bf-eac9-5816a42ded47"
      },
      "outputs": [
        {
          "data": {
            "text/html": [
              "<div>\n",
              "<style scoped>\n",
              "    .dataframe tbody tr th:only-of-type {\n",
              "        vertical-align: middle;\n",
              "    }\n",
              "\n",
              "    .dataframe tbody tr th {\n",
              "        vertical-align: top;\n",
              "    }\n",
              "\n",
              "    .dataframe thead th {\n",
              "        text-align: right;\n",
              "    }\n",
              "</style>\n",
              "<table border=\"1\" class=\"dataframe\">\n",
              "  <thead>\n",
              "    <tr style=\"text-align: right;\">\n",
              "      <th></th>\n",
              "      <th>Avg. Area Income</th>\n",
              "      <th>Avg. Area House Age</th>\n",
              "      <th>Avg. Area Number of Rooms</th>\n",
              "      <th>Avg. Area Number of Bedrooms</th>\n",
              "      <th>Area Population</th>\n",
              "      <th>Price</th>\n",
              "    </tr>\n",
              "  </thead>\n",
              "  <tbody>\n",
              "    <tr>\n",
              "      <th>0</th>\n",
              "      <td>1.028660</td>\n",
              "      <td>-0.296927</td>\n",
              "      <td>0.021274</td>\n",
              "      <td>0.088062</td>\n",
              "      <td>-1.317599</td>\n",
              "      <td>1.059034e+06</td>\n",
              "    </tr>\n",
              "    <tr>\n",
              "      <th>1</th>\n",
              "      <td>1.000808</td>\n",
              "      <td>0.025902</td>\n",
              "      <td>-0.255506</td>\n",
              "      <td>-0.722301</td>\n",
              "      <td>0.403999</td>\n",
              "      <td>1.505891e+06</td>\n",
              "    </tr>\n",
              "    <tr>\n",
              "      <th>2</th>\n",
              "      <td>-0.684629</td>\n",
              "      <td>-0.112303</td>\n",
              "      <td>1.516243</td>\n",
              "      <td>0.930840</td>\n",
              "      <td>0.072410</td>\n",
              "      <td>1.058988e+06</td>\n",
              "    </tr>\n",
              "    <tr>\n",
              "      <th>3</th>\n",
              "      <td>-0.491499</td>\n",
              "      <td>1.221572</td>\n",
              "      <td>-1.393077</td>\n",
              "      <td>-0.584540</td>\n",
              "      <td>-0.186734</td>\n",
              "      <td>1.260617e+06</td>\n",
              "    </tr>\n",
              "    <tr>\n",
              "      <th>4</th>\n",
              "      <td>-0.807073</td>\n",
              "      <td>-0.944834</td>\n",
              "      <td>0.846742</td>\n",
              "      <td>0.201513</td>\n",
              "      <td>-0.988387</td>\n",
              "      <td>6.309435e+05</td>\n",
              "    </tr>\n",
              "  </tbody>\n",
              "</table>\n",
              "</div>"
            ],
            "text/plain": [
              "   Avg. Area Income  Avg. Area House Age  Avg. Area Number of Rooms  \\\n",
              "0          1.028660            -0.296927                   0.021274   \n",
              "1          1.000808             0.025902                  -0.255506   \n",
              "2         -0.684629            -0.112303                   1.516243   \n",
              "3         -0.491499             1.221572                  -1.393077   \n",
              "4         -0.807073            -0.944834                   0.846742   \n",
              "\n",
              "   Avg. Area Number of Bedrooms  Area Population         Price  \n",
              "0                      0.088062        -1.317599  1.059034e+06  \n",
              "1                     -0.722301         0.403999  1.505891e+06  \n",
              "2                      0.930840         0.072410  1.058988e+06  \n",
              "3                     -0.584540        -0.186734  1.260617e+06  \n",
              "4                      0.201513        -0.988387  6.309435e+05  "
            ]
          },
          "execution_count": 5,
          "metadata": {},
          "output_type": "execute_result"
        }
      ],
      "source": [
        "from sklearn.preprocessing import StandardScaler\n",
        "\n",
        "ss = StandardScaler()\n",
        "df = pd.DataFrame(ss.fit_transform(df_.drop('Price',axis=1)), columns = df_.columns[:5])\n",
        "df['Price'] = df_['Price']\n",
        "df.head()"
      ]
    },
    {
      "cell_type": "code",
      "execution_count": 6,
      "metadata": {
        "id": "EAhCKVfPrfBm"
      },
      "outputs": [],
      "source": [
        "X = df[['Avg. Area Income', 'Avg. Area House Age', 'Avg. Area Number of Rooms','Avg. Area Number of Bedrooms', 'Area Population']]\n",
        "y = df['Price']"
      ]
    },
    {
      "cell_type": "markdown",
      "metadata": {
        "id": "l_--D5ligcNf"
      },
      "source": [
        "## sklearn Linear Regression"
      ]
    },
    {
      "cell_type": "code",
      "execution_count": 7,
      "metadata": {
        "colab": {
          "base_uri": "https://localhost:8080/"
        },
        "id": "eLUqVcder3iY",
        "outputId": "f6192b19-7af3-4e4d-c33c-0344ddc9920b"
      },
      "outputs": [
        {
          "name": "stdout",
          "output_type": "stream",
          "text": [
            "Coefficients : [230464.52520198 164159.19982574 120514.71328446   2913.62424452\n",
            " 151019.35865248] \n",
            "Intercept : 1231278.6368716825\n",
            "MSE : 10068422551.400883\n",
            "R2 Score : 0.9146818498754016\n"
          ]
        }
      ],
      "source": [
        "from sklearn.model_selection import train_test_split\n",
        "\n",
        "X_train,X_test,y_train,y_test = train_test_split(X,y,test_size = 0.3, random_state = 42)\n",
        "\n",
        "from sklearn.linear_model import LinearRegression\n",
        "\n",
        "model = LinearRegression()\n",
        "model.fit(X_train,y_train)\n",
        "\n",
        "print('Coefficients :',model.coef_, '\\n' 'Intercept :',model.intercept_)\n",
        "\n",
        "y_pred = model.predict(X_test)\n",
        "\n",
        "from sklearn.metrics import mean_squared_error, r2_score\n",
        "\n",
        "print('MSE :',mean_squared_error(y_test,y_pred))\n",
        "print('R2 Score :',r2_score(y_test,y_pred))"
      ]
    },
    {
      "cell_type": "markdown",
      "metadata": {
        "id": "XBieAeQLcC6W"
      },
      "source": [
        "## Nesterov Accelerated Gradient Descent"
      ]
    },
    {
      "cell_type": "code",
      "execution_count": 31,
      "metadata": {
        "colab": {
          "base_uri": "https://localhost:8080/"
        },
        "id": "f72BnND9cBwM",
        "outputId": "6f549b42-bbdc-46f0-d2d0-162f217736d7"
      },
      "outputs": [
        {
          "name": "stdout",
          "output_type": "stream",
          "text": [
            "Coefficients: [229881.71649119 164743.4617047  120699.31900036   2845.6473084\n",
            " 150450.18342634] \n",
            "Intercept: 1196329.2593111948\n",
            "MSE: 11473117303.555122\n",
            "R2 Score: 0.9027786984997319\n"
          ]
        }
      ],
      "source": [
        "class NAG:\n",
        "\n",
        "    def __init__(self, learning_rate, epochs, momentum):\n",
        "        self.learning_rate = learning_rate\n",
        "        self.epochs = epochs\n",
        "        self.momentum = momentum\n",
        "        self.coef_ = None\n",
        "        self.intercept_ = None\n",
        "        self.velocity_coef_ = None\n",
        "        self.velocity_intercept_ = None\n",
        "        self.y_pred = None\n",
        "\n",
        "    def fit(self, X_train, y_train):\n",
        "        X_train = np.array(X_train)\n",
        "        y_train = np.array(y_train)\n",
        "        self.coef_ = np.zeros((X_train.shape[1],))\n",
        "        self.intercept_ = 0\n",
        "        self.velocity_coef_ = np.zeros_like(self.coef_)\n",
        "        self.velocity_intercept_ = 0\n",
        "\n",
        "        for epoch in range(self.epochs):\n",
        "            indices = np.arange(X_train.shape[0])\n",
        "            np.random.shuffle(indices)\n",
        "\n",
        "            for i in indices:\n",
        "                index = np.random.randint(0, X_train.shape[0])\n",
        "\n",
        "                # Nesterov Accelerated Gradient (NAG) update\n",
        "                look_ahead_coef = self.coef_ - self.momentum * self.velocity_coef_\n",
        "                look_ahead_intercept = self.intercept_ - self.momentum * self.velocity_intercept_\n",
        "\n",
        "                y_hat = np.dot(look_ahead_coef, X_train[index].T) + look_ahead_intercept\n",
        "\n",
        "                dj_dw = np.dot((y_hat - y_train[index]), X_train[index]) / X_train.shape[0]\n",
        "                dj_db = -2 * np.mean(y_train[index] - y_hat)\n",
        "\n",
        "                # Momentum updates\n",
        "                self.velocity_coef_ = self.momentum * self.velocity_coef_ + self.learning_rate * dj_dw\n",
        "                self.velocity_intercept_ = self.momentum * self.velocity_intercept_ + self.learning_rate * dj_db\n",
        "\n",
        "                # Update weights and intercept\n",
        "                self.coef_ = self.coef_ - self.velocity_coef_\n",
        "                self.intercept_ = self.intercept_ - self.velocity_intercept_\n",
        "\n",
        "        return self.coef_, self.intercept_\n",
        "\n",
        "    def predict(self, X_test):\n",
        "        self.y_pred = np.dot(self.coef_, X_test.T) + self.intercept_\n",
        "        return self.y_pred\n",
        "\n",
        "    @staticmethod\n",
        "    def mean_squared_error(y_test, y_pred):\n",
        "        return ((y_test - y_pred) ** 2).mean()\n",
        "\n",
        "    @staticmethod\n",
        "    def r2_score(y_test, y_pred):\n",
        "        y_mean = np.mean(y_test)\n",
        "        ss_total = np.sum((y_test - y_mean) ** 2)\n",
        "        ss_residual = np.sum((y_test - y_pred) ** 2)\n",
        "        r2 = 1 - (ss_residual / ss_total)\n",
        "        return r2\n",
        "\n",
        "\n",
        "model = NAG(learning_rate=0.1, epochs=70, momentum=0.5)\n",
        "model.fit(X_train, y_train)\n",
        "y_pred = model.predict(X_test)\n",
        "\n",
        "print('Coefficients:', model.coef_, '\\nIntercept:', model.intercept_)\n",
        "print('MSE:', model.mean_squared_error(y_test, y_pred))\n",
        "print('R2 Score:', model.r2_score(y_test, y_pred))\n"
      ]
    }
  ],
  "metadata": {
    "colab": {
      "provenance": []
    },
    "kernelspec": {
      "display_name": "Python 3",
      "name": "python3"
    },
    "language_info": {
      "codemirror_mode": {
        "name": "ipython",
        "version": 3
      },
      "file_extension": ".py",
      "mimetype": "text/x-python",
      "name": "python",
      "nbconvert_exporter": "python",
      "pygments_lexer": "ipython3",
      "version": "3.10.6"
    }
  },
  "nbformat": 4,
  "nbformat_minor": 0
}
