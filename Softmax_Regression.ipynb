{
  "cells": [
    {
      "cell_type": "code",
      "execution_count": 223,
      "metadata": {
        "id": "j8BT5YqN4HHi"
      },
      "outputs": [],
      "source": [
        "import numpy as np\n",
        "import pandas as pd\n",
        "%matplotlib inline\n",
        "import matplotlib.pyplot as plt\n",
        "import seaborn as sns"
      ]
    },
    {
      "cell_type": "code",
      "execution_count": 229,
      "metadata": {},
      "outputs": [
        {
          "data": {
            "text/html": [
              "<div>\n",
              "<style scoped>\n",
              "    .dataframe tbody tr th:only-of-type {\n",
              "        vertical-align: middle;\n",
              "    }\n",
              "\n",
              "    .dataframe tbody tr th {\n",
              "        vertical-align: top;\n",
              "    }\n",
              "\n",
              "    .dataframe thead th {\n",
              "        text-align: right;\n",
              "    }\n",
              "</style>\n",
              "<table border=\"1\" class=\"dataframe\">\n",
              "  <thead>\n",
              "    <tr style=\"text-align: right;\">\n",
              "      <th></th>\n",
              "      <th>SepalLengthCm</th>\n",
              "      <th>SepalWidthCm</th>\n",
              "      <th>PetalLengthCm</th>\n",
              "      <th>PetalWidthCm</th>\n",
              "      <th>Species</th>\n",
              "    </tr>\n",
              "  </thead>\n",
              "  <tbody>\n",
              "    <tr>\n",
              "      <th>0</th>\n",
              "      <td>5.1</td>\n",
              "      <td>3.5</td>\n",
              "      <td>1.4</td>\n",
              "      <td>0.2</td>\n",
              "      <td>1</td>\n",
              "    </tr>\n",
              "    <tr>\n",
              "      <th>1</th>\n",
              "      <td>4.9</td>\n",
              "      <td>3.0</td>\n",
              "      <td>1.4</td>\n",
              "      <td>0.2</td>\n",
              "      <td>1</td>\n",
              "    </tr>\n",
              "    <tr>\n",
              "      <th>2</th>\n",
              "      <td>4.7</td>\n",
              "      <td>3.2</td>\n",
              "      <td>1.3</td>\n",
              "      <td>0.2</td>\n",
              "      <td>1</td>\n",
              "    </tr>\n",
              "    <tr>\n",
              "      <th>3</th>\n",
              "      <td>4.6</td>\n",
              "      <td>3.1</td>\n",
              "      <td>1.5</td>\n",
              "      <td>0.2</td>\n",
              "      <td>1</td>\n",
              "    </tr>\n",
              "    <tr>\n",
              "      <th>4</th>\n",
              "      <td>5.0</td>\n",
              "      <td>3.6</td>\n",
              "      <td>1.4</td>\n",
              "      <td>0.2</td>\n",
              "      <td>1</td>\n",
              "    </tr>\n",
              "    <tr>\n",
              "      <th>...</th>\n",
              "      <td>...</td>\n",
              "      <td>...</td>\n",
              "      <td>...</td>\n",
              "      <td>...</td>\n",
              "      <td>...</td>\n",
              "    </tr>\n",
              "    <tr>\n",
              "      <th>145</th>\n",
              "      <td>6.7</td>\n",
              "      <td>3.0</td>\n",
              "      <td>5.2</td>\n",
              "      <td>2.3</td>\n",
              "      <td>0</td>\n",
              "    </tr>\n",
              "    <tr>\n",
              "      <th>146</th>\n",
              "      <td>6.3</td>\n",
              "      <td>2.5</td>\n",
              "      <td>5.0</td>\n",
              "      <td>1.9</td>\n",
              "      <td>0</td>\n",
              "    </tr>\n",
              "    <tr>\n",
              "      <th>147</th>\n",
              "      <td>6.5</td>\n",
              "      <td>3.0</td>\n",
              "      <td>5.2</td>\n",
              "      <td>2.0</td>\n",
              "      <td>0</td>\n",
              "    </tr>\n",
              "    <tr>\n",
              "      <th>148</th>\n",
              "      <td>6.2</td>\n",
              "      <td>3.4</td>\n",
              "      <td>5.4</td>\n",
              "      <td>2.3</td>\n",
              "      <td>0</td>\n",
              "    </tr>\n",
              "    <tr>\n",
              "      <th>149</th>\n",
              "      <td>5.9</td>\n",
              "      <td>3.0</td>\n",
              "      <td>5.1</td>\n",
              "      <td>1.8</td>\n",
              "      <td>0</td>\n",
              "    </tr>\n",
              "  </tbody>\n",
              "</table>\n",
              "<p>150 rows × 5 columns</p>\n",
              "</div>"
            ],
            "text/plain": [
              "     SepalLengthCm  SepalWidthCm  PetalLengthCm  PetalWidthCm  Species\n",
              "0              5.1           3.5            1.4           0.2        1\n",
              "1              4.9           3.0            1.4           0.2        1\n",
              "2              4.7           3.2            1.3           0.2        1\n",
              "3              4.6           3.1            1.5           0.2        1\n",
              "4              5.0           3.6            1.4           0.2        1\n",
              "..             ...           ...            ...           ...      ...\n",
              "145            6.7           3.0            5.2           2.3        0\n",
              "146            6.3           2.5            5.0           1.9        0\n",
              "147            6.5           3.0            5.2           2.0        0\n",
              "148            6.2           3.4            5.4           2.3        0\n",
              "149            5.9           3.0            5.1           1.8        0\n",
              "\n",
              "[150 rows x 5 columns]"
            ]
          },
          "execution_count": 229,
          "metadata": {},
          "output_type": "execute_result"
        }
      ],
      "source": [
        "df = pd.read_csv('Iris.csv')\n",
        "df.drop('Id',axis=1,inplace=True)\n",
        "df['Species'] = df['Species'].apply(lambda x: 0 if x == 'Iris-virginica' else (1 if x == 'Iris-setosa' else 2))\n",
        "df.head(150)"
      ]
    },
    {
      "cell_type": "code",
      "execution_count": 230,
      "metadata": {},
      "outputs": [],
      "source": [
        "X = df.drop('Species',axis=1)\n",
        "y = df['Species']"
      ]
    },
    {
      "cell_type": "code",
      "execution_count": 231,
      "metadata": {},
      "outputs": [
        {
          "name": "stdout",
          "output_type": "stream",
          "text": [
            "(120, 4) (30, 4) (120,) (30,)\n"
          ]
        }
      ],
      "source": [
        "from sklearn.model_selection import train_test_split\n",
        "\n",
        "X_train, X_test, y_train, y_test = train_test_split(X ,y, test_size = 0.2)\n",
        "print(X_train.shape, X_test.shape, y_train.shape, y_test.shape)"
      ]
    },
    {
      "cell_type": "code",
      "execution_count": 232,
      "metadata": {},
      "outputs": [],
      "source": [
        "from sklearn.linear_model import LogisticRegression\n",
        "from sklearn.metrics import accuracy_score, confusion_matrix\n",
        "\n",
        "model = LogisticRegression(multi_class='multinomial')\n",
        "model.fit(X_train,y_train)\n",
        "y_pred = model.predict(X_test)"
      ]
    },
    {
      "cell_type": "code",
      "execution_count": 233,
      "metadata": {},
      "outputs": [
        {
          "data": {
            "text/plain": [
              "0.9666666666666667"
            ]
          },
          "execution_count": 233,
          "metadata": {},
          "output_type": "execute_result"
        }
      ],
      "source": [
        "accuracy_score(y_test,y_pred)"
      ]
    },
    {
      "cell_type": "code",
      "execution_count": 234,
      "metadata": {},
      "outputs": [
        {
          "data": {
            "text/plain": [
              "array([[12,  0,  0],\n",
              "       [ 0, 12,  0],\n",
              "       [ 1,  0,  5]])"
            ]
          },
          "execution_count": 234,
          "metadata": {},
          "output_type": "execute_result"
        }
      ],
      "source": [
        "confusion_matrix(y_test,y_pred)"
      ]
    },
    {
      "cell_type": "code",
      "execution_count": 235,
      "metadata": {},
      "outputs": [
        {
          "data": {
            "text/plain": [
              "array([[12,  0,  0],\n",
              "       [ 0, 12,  0],\n",
              "       [ 1,  0,  5]])"
            ]
          },
          "execution_count": 235,
          "metadata": {},
          "output_type": "execute_result"
        }
      ],
      "source": [
        "class SoftmaxRegressor:\n",
        "\n",
        "  def __init__(self, learning_rate, epochs):\n",
        "    self.y_pred = None\n",
        "    self.coef_ = None\n",
        "    self.intercept_ = None\n",
        "    self.W = None\n",
        "    self.epochs = epochs\n",
        "    self.learning_rate = learning_rate\n",
        "\n",
        "  def softmax(self, X):\n",
        "    exp_x = np.exp(X - np.max(X, axis=1, keepdims=True))\n",
        "    return exp_x / exp_x.sum(axis=1, keepdims=True)\n",
        "\n",
        "  def fit(self, X_train, y_train):\n",
        "    X_train = np.array(X_train)\n",
        "    y_train = np.array(y_train)\n",
        "\n",
        "    X_train = np.insert(X_train, 0, 1, axis=1)\n",
        "    num_classes = len(np.unique(y_train))\n",
        "    self.W = np.zeros((X_train.shape[1], num_classes))\n",
        "\n",
        "    for i in range(self.epochs):\n",
        "      scores = X_train.dot(self.W)\n",
        "      probs = self.softmax(scores)\n",
        "      error = self.one_hot_encode(y_train, num_classes) - probs\n",
        "      gradient = (-1 / len(X_train)) * X_train.T.dot(error)\n",
        "      self.W -= self.learning_rate * gradient\n",
        "\n",
        "    self.coef_ = self.W[1:, :]\n",
        "    self.intercept_ = self.W[0, :]\n",
        "\n",
        "  def one_hot_encode(self, y, num_classes):\n",
        "    one_hot = np.zeros((len(y), num_classes))\n",
        "    for i in range(len(y)):\n",
        "      one_hot[i, y[i]] = 1\n",
        "    return one_hot\n",
        "\n",
        "  def predict(self, X_test):\n",
        "    X_test = np.array(X_test)\n",
        "    X_test = np.insert(X_test, 0, 1, axis=1)\n",
        "    scores = X_test.dot(self.W)\n",
        "    probabilities = self.softmax(scores)\n",
        "    predictions = np.argmax(probabilities, axis=1)\n",
        "    return predictions\n",
        "\n",
        "  def predict_proba(self, X_test):\n",
        "    X_test = np.array(X_test)\n",
        "    X_test = np.insert(X_test, 0, 1, axis=1)\n",
        "    scores = X_test.dot(self.W)\n",
        "    probabilities = self.softmax(scores)\n",
        "    return probabilities\n",
        "\n",
        "  def accuracy(self, y_true, y_pred):\n",
        "    y_true = np.array(y_true)\n",
        "    y_pred = np.array(y_pred)\n",
        "    correct_predictions = np.sum(y_true == y_pred)\n",
        "    total_predictions = len(y_true)\n",
        "    accuracy = correct_predictions / total_predictions\n",
        "    return accuracy\n",
        "\n",
        "  def confusion_matrix(self, y_true, y_pred, num_classes):\n",
        "    cm = np.zeros((num_classes, num_classes), dtype=int)\n",
        "    for i in range(num_classes):\n",
        "      for j in range(num_classes):\n",
        "        cm[i, j] = np.sum((y_true == i) & (y_pred == j))\n",
        "    \n",
        "    return cm.T\n",
        "\n",
        "model = SoftmaxRegressor(learning_rate = 0.5,epochs = 5000)\n",
        "model.fit(X_train,y_train)\n",
        "y_pred1 = model.predict(X_test)\n",
        "model.accuracy(y_pred1,y_test)\n",
        "model.confusion_matrix(y_pred1,y_test,3)"
      ]
    }
  ],
  "metadata": {
    "colab": {
      "provenance": []
    },
    "kernelspec": {
      "display_name": "Python 3",
      "name": "python3"
    },
    "language_info": {
      "codemirror_mode": {
        "name": "ipython",
        "version": 3
      },
      "file_extension": ".py",
      "mimetype": "text/x-python",
      "name": "python",
      "nbconvert_exporter": "python",
      "pygments_lexer": "ipython3",
      "version": "3.10.6"
    }
  },
  "nbformat": 4,
  "nbformat_minor": 0
}
